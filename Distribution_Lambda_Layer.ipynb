{
  "cells": [
    {
      "cell_type": "code",
      "execution_count": null,
      "metadata": {
        "id": "7duJ0uJcDMir",
        "outputId": "5231d2f6-f151-4c23-a043-5b95757988d7"
      },
      "outputs": [
        {
          "name": "stdout",
          "output_type": "stream",
          "text": [
            "TF version: 2.1.0\n",
            "TFP version: 0.9.0\n"
          ]
        }
      ],
      "source": [
        "import tensorflow as tf\n",
        "import tensorflow_probability as tfp\n",
        "tfd = tfp.distributions\n",
        "tfpl = tfp.layers\n",
        "\n",
        "print('TF version:', tf.__version__)\n",
        "print('TFP version:', tfp.__version__)"
      ]
    },
    {
      "cell_type": "markdown",
      "metadata": {
        "id": "2HoIPKSNDMiv"
      },
      "source": [
        "***\n",
        "<a id=\"coding_tutorial_1\"></a>\n",
        "## The `DistributionLambda` layer"
      ]
    },
    {
      "cell_type": "code",
      "execution_count": null,
      "metadata": {
        "id": "bYr_zKHhDMiv"
      },
      "outputs": [],
      "source": [
        "from tensorflow.keras.models import Sequential\n",
        "from tensorflow.keras.layers import Dense\n",
        "from tensorflow.keras.optimizers import RMSprop\n",
        "import numpy as np\n",
        "import matplotlib.pyplot as plt"
      ]
    },
    {
      "cell_type": "code",
      "execution_count": null,
      "metadata": {
        "id": "csOi0UFxDMiw",
        "outputId": "9db7dbd5-d168-4960-ea58-4a2523c3b935"
      },
      "outputs": [
        {
          "data": {
            "image/png": "[encoded data removed]",
            "text/plain": [
              "<Figure size 432x288 with 1 Axes>"
            ]
          },
          "metadata": {
            "needs_background": "light"
          },
          "output_type": "display_data"
        }
      ],
      "source": [
        "# Create a sigmoid model, first deterministic, then probabilistic\n",
        "\n",
        "model = Sequential([\n",
        "    Dense(input_shape=(1,), units=1, activation='sigmoid',\n",
        "          kernel_initializer=tf.constant_initializer(1),\n",
        "          bias_initializer=tf.constant_initializer(0)),\n",
        "    tfpl.DistributionLambda(lambda t: tfd.Bernoulli(probs=t),\n",
        "                           convert_to_tensor_fn=tfd.Distribution.sample)\n",
        "])\n",
        "\n",
        "# Plot the function\n",
        "x_plot = np.linspace(-5, 5, 100)\n",
        "plt.scatter(x_plot, model.predict(x_plot), alpha=0.4)\n",
        "plt.plot(x_plot, 1/(1 + np.exp(-x_plot)), color='r', alpha=0.8)\n",
        "plt.show()"
      ]
    },
    {
      "cell_type": "code",
      "execution_count": null,
      "metadata": {
        "id": "2t6muMlYDMiw"
      },
      "outputs": [],
      "source": [
        "# Create a constant input for this model\n",
        "\n",
        "x=np.array([[0]])"
      ]
    },
    {
      "cell_type": "code",
      "execution_count": null,
      "metadata": {
        "id": "z9B22iMgDMix",
        "outputId": "d7e7baef-1356-4643-e4e3-163fa9eb7bf6"
      },
      "outputs": [
        {
          "data": {
            "text/plain": [
              "array([[1]], dtype=int32)"
            ]
          },
          "execution_count": 15,
          "metadata": {},
          "output_type": "execute_result"
        }
      ],
      "source": [
        "# Explore the feedforward object...\n",
        "model.predict(x)\n"
      ]
    },
    {
      "cell_type": "code",
      "execution_count": null,
      "metadata": {
        "scrolled": true,
        "id": "lZn0jFkbDMix",
        "outputId": "4a97a9c9-1e3c-47b9-88c9-3eaebc74d6a7"
      },
      "outputs": [
        {
          "name": "stdout",
          "output_type": "stream",
          "text": [
            "[[1]]\n",
            "[[0]]\n",
            "[[0]]\n",
            "[[0]]\n",
            "[[1]]\n"
          ]
        }
      ],
      "source": [
        "# ... and its behaviour under repeated calls\n",
        "\n",
        "for _ in range(5):\n",
        "    print(model.predict(x))"
      ]
    },
    {
      "cell_type": "markdown",
      "metadata": {
        "id": "MNaJSZfjDMix"
      },
      "source": [
        "#### Use the forward model to create probabilistic training data"
      ]
    },
    {
      "cell_type": "code",
      "execution_count": null,
      "metadata": {
        "id": "supiZLdoDMiy",
        "outputId": "6fc876a6-d402-4654-8cfc-cc577055671e"
      },
      "outputs": [
        {
          "name": "stdout",
          "output_type": "stream",
          "text": [
            "WARNING:tensorflow:Layer dense_1 is casting an input tensor from dtype float64 to the layer's dtype of float32, which is new behavior in TensorFlow 2.  The layer has dtype float32 because it's dtype defaults to floatx.\n",
            "\n",
            "If you intended to run this layer in float32, you can safely ignore this warning. If in doubt, this warning is likely only an issue if you are porting a TensorFlow 1.X model to TensorFlow 2.\n",
            "\n",
            "To change all layers to have dtype float64 by default, call `tf.keras.backend.set_floatx('float64')`. To change just this layer, pass dtype='float64' to the layer constructor. If you are the author of this layer, you can disable autocasting by passing autocast=False to the base Layer constructor.\n",
            "\n"
          ]
        },
        {
          "data": {
            "image/png": "[encoded data removed]",
            "text/plain": [
              "<Figure size 360x360 with 1 Axes>"
            ]
          },
          "metadata": {
            "needs_background": "light"
          },
          "output_type": "display_data"
        }
      ],
      "source": [
        "# Use the model to create 500 training points\n",
        "\n",
        "x_train = np.linspace(-5, 5, 500)[:, np.newaxis]\n",
        "y_train = model.predict(x_train)\n",
        "\n",
        "# Plot the data and the mean of the distribution\n",
        "fig, ax = plt.subplots(figsize=(5, 5))\n",
        "ax.scatter(x_train, y_train, alpha=0.04, color='blue', label='samples')\n",
        "ax.plot(x_train, model(x_train).mean().numpy().flatten(), \n",
        "        color='red', alpha=0.8, label='mean')\n",
        "ax.legend()\n",
        "plt.show()"
      ]
    },
    {
      "cell_type": "markdown",
      "metadata": {
        "id": "NhXRZMPJDMiy"
      },
      "source": [
        "#### Create a new probabilistic model with the wrong weights"
      ]
    },
    {
      "cell_type": "code",
      "execution_count": null,
      "metadata": {
        "id": "3r1L1enpDMiy"
      },
      "outputs": [],
      "source": [
        "# Create a new version of the model, with the wrong weights\n",
        "model_untrained = Sequential([\n",
        "    Dense(input_shape=(1,), units=1, activation='sigmoid',\n",
        "          kernel_initializer=tf.constant_initializer(2),\n",
        "          bias_initializer=tf.constant_initializer(2)),\n",
        "    tfpl.DistributionLambda(lambda t: tfd.Bernoulli(probs=t),\n",
        "                           convert_to_tensor_fn=tfd.Distribution.sample)\n",
        "])"
      ]
    },
    {
      "cell_type": "markdown",
      "metadata": {
        "id": "M1QyvojvDMiy"
      },
      "source": [
        "#### Train the new model with the negative loglikelihood"
      ]
    },
    {
      "cell_type": "code",
      "execution_count": null,
      "metadata": {
        "id": "oEb4mA2tDMiy"
      },
      "outputs": [],
      "source": [
        "# Define negative loglikelihood, which we will use for training\n",
        "\n",
        "def nll(y_true,y_pred):\n",
        "    return -y_pred.log_prob(y_true)"
      ]
    },
    {
      "cell_type": "code",
      "execution_count": null,
      "metadata": {
        "id": "wjKnhOdKDMiz"
      },
      "outputs": [],
      "source": [
        "# Compile untrained model\n",
        "model_untrained.compile(loss=nll,optimizer=RMSprop(learning_rate=0.01))\n"
      ]
    },
    {
      "cell_type": "code",
      "execution_count": null,
      "metadata": {
        "id": "i5WwlnAKDMiz"
      },
      "outputs": [],
      "source": [
        "# Train model, record weights after each epoch\n",
        "\n",
        "epochs = [0]\n",
        "training_weights = [model_untrained.weights[0].numpy()[0, 0]]\n",
        "training_bias = [model_untrained.weights[1].numpy()[0]]\n",
        "for epoch in range(100):\n",
        "    model_untrained.fit(x=x_train, y=y_train, epochs=1, verbose=False)\n",
        "    epochs.append(epoch)\n",
        "    training_weights.append(model_untrained.weights[0].numpy()[0, 0])\n",
        "    training_bias.append(model_untrained.weights[1].numpy()[0])"
      ]
    },
    {
      "cell_type": "code",
      "execution_count": null,
      "metadata": {
        "id": "YzkM1eDjDMiz",
        "outputId": "f43d18ec-35e3-4792-c50a-a461706ceef3"
      },
      "outputs": [
        {
          "data": {
            "image/png": "[encoded data removed]",
            "text/plain": [
              "<Figure size 432x288 with 1 Axes>"
            ]
          },
          "metadata": {
            "needs_background": "light"
          },
          "output_type": "display_data"
        }
      ],
      "source": [
        "# Plot the model weights as they train, converging to the correct values\n",
        "\n",
        "plt.plot(epochs, training_weights, label='weight')\n",
        "plt.plot(epochs, training_bias, label='bias')\n",
        "plt.axhline(y=1, label='true_weight', color='k', linestyle=':')\n",
        "plt.axhline(y=0, label='true_bias', color='k', linestyle='--')\n",
        "plt.xlabel('Epochs')\n",
        "plt.legend()\n",
        "plt.show()"
      ]
    }
  ],
  "metadata": {
    "kernelspec": {
      "display_name": "Python 3",
      "language": "python",
      "name": "python3"
    },
    "language_info": {
      "codemirror_mode": {
        "name": "ipython",
        "version": 3
      },
      "file_extension": ".py",
      "mimetype": "text/x-python",
      "name": "python",
      "nbconvert_exporter": "python",
      "pygments_lexer": "ipython3",
      "version": "3.7.1"
    },
    "colab": {
      "provenance": []
    }
  },
  "nbformat": 4,
  "nbformat_minor": 0
}