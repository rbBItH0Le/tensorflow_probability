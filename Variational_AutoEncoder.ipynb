{
 "cells": [
  {
   "cell_type": "code",
   "execution_count": 1,
   "metadata": {},
   "outputs": [
    {
     "name": "stdout",
     "output_type": "stream",
     "text": [
      "TF version: 2.1.0\n",
      "TFP version: 0.9.0\n"
     ]
    }
   ],
   "source": [
    "import tensorflow as tf\n",
    "import tensorflow_probability as tfp\n",
    "tfd = tfp.distributions\n",
    "tfpl = tfp.layers\n",
    "tfb = tfp.bijectors\n",
    "print(\"TF version:\", tf.__version__)\n",
    "print(\"TFP version:\", tfp.__version__)"
   ]
  },
  {
   "cell_type": "code",
   "execution_count": 3,
   "metadata": {},
   "outputs": [],
   "source": [
    "from tensorflow.keras.models import Sequential, Model\n",
    "from tensorflow.keras.layers import Dense, Flatten, Reshape\n",
    "import matplotlib.pyplot as plt\n",
    "import numpy as np"
   ]
  },
  {
   "cell_type": "code",
   "execution_count": 4,
   "metadata": {},
   "outputs": [
    {
     "name": "stdout",
     "output_type": "stream",
     "text": [
      "Downloading data from https://storage.googleapis.com/tensorflow/tf-keras-datasets/train-labels-idx1-ubyte.gz\n",
      "32768/29515 [=================================] - 0s 0us/step\n",
      "Downloading data from https://storage.googleapis.com/tensorflow/tf-keras-datasets/train-images-idx3-ubyte.gz\n",
      "26427392/26421880 [==============================] - 0s 0us/step\n",
      "Downloading data from https://storage.googleapis.com/tensorflow/tf-keras-datasets/t10k-labels-idx1-ubyte.gz\n",
      "8192/5148 [===============================================] - 0s 0us/step\n",
      "Downloading data from https://storage.googleapis.com/tensorflow/tf-keras-datasets/t10k-images-idx3-ubyte.gz\n",
      "4423680/4422102 [==============================] - 0s 0us/step\n"
     ]
    }
   ],
   "source": [
    "# Import Fasion MNIST, make it a TensorFlow Dataset\n",
    "\n",
    "(x_train, _), (x_test, _) = tf.keras.datasets.fashion_mnist.load_data()\n",
    "x_train = x_train.astype('float32')/255.\n",
    "x_test = x_test.astype('float32')/255.\n",
    "example_x = x_test[:16]\n",
    "\n",
    "batch_size = 64\n",
    "x_train = tf.data.Dataset.from_tensor_slices(x_train).batch(batch_size)"
   ]
  },
  {
   "cell_type": "code",
   "execution_count": 10,
   "metadata": {},
   "outputs": [],
   "source": [
    "# Define the encoding distribution, q(z|x)\n",
    "latent_size=2\n",
    "event_shape=(28,28)\n",
    "\n",
    "encoder=Sequential([Flatten(input_shape=event_shape),\n",
    "                   Dense(256,activation='relu'),\n",
    "                  Dense(64,activation='relu'),\n",
    "                   Dense(32,activation='relu'),\n",
    "                   Dense(2*latent_size),\n",
    "                   tfpl.DistributionLambda(lambda t: tfd.MultivariateNormalDiag(loc=t[...,:latent_size],scale_diag=tf.math.exp(t[...,latent_size:])))])"
   ]
  },
  {
   "cell_type": "code",
   "execution_count": 11,
   "metadata": {},
   "outputs": [
    {
     "data": {
      "text/plain": [
       "<tfp.distributions.MultivariateNormalDiag 'sequential_3_distribution_lambda_2_MultivariateNormalDiag' batch_shape=[16] event_shape=[2] dtype=float32>"
      ]
     },
     "execution_count": 11,
     "metadata": {},
     "output_type": "execute_result"
    }
   ],
   "source": [
    "# Pass an example image through the network - should return a batch of MultivariateNormalDiags.\n",
    "\n",
    "encoder(example_x)"
   ]
  },
  {
   "cell_type": "code",
   "execution_count": 12,
   "metadata": {},
   "outputs": [],
   "source": [
    "# Define the decoding distribution, p(x|z)\n",
    "decoder=Sequential([Dense(32,activation='relu'),\n",
    "                    Dense(64,activation='relu'),\n",
    "                    Dense(128,activation='relu'),\n",
    "                    Dense(256,activation='relu'),\n",
    "                    Dense(tfpl.IndependentBernoulli.params_size(event_shape)),\n",
    "                   tfpl.IndependentBernoulli(event_shape)])\n",
    "   "
   ]
  },
  {
   "cell_type": "code",
   "execution_count": 13,
   "metadata": {},
   "outputs": [
    {
     "data": {
      "text/plain": [
       "<tfp.distributions.Independent 'sequential_4_independent_bernoulli_1_IndependentBernoulli_Independentsequential_4_independent_bernoulli_1_IndependentBernoulli_Bernoulli' batch_shape=[16] event_shape=[28, 28] dtype=float32>"
      ]
     },
     "execution_count": 13,
     "metadata": {},
     "output_type": "execute_result"
    }
   ],
   "source": [
    "# Pass a batch of examples to the decoder\n",
    "\n",
    "decoder(tf.random.normal([16,latent_size]))"
   ]
  },
  {
   "cell_type": "code",
   "execution_count": 14,
   "metadata": {},
   "outputs": [],
   "source": [
    "# Define the prior, p(z) - a standard bivariate Gaussian\n",
    "\n",
    "prior=tfd.MultivariateNormalDiag(loc=tf.zeros(latent_size))"
   ]
  },
  {
   "cell_type": "code",
   "execution_count": 28,
   "metadata": {},
   "outputs": [],
   "source": [
    "# Specify the loss function, an estimate of the -ELBO\n",
    "\n",
    "def loss_fn(x,encoding_dist,sample_decoding_dist,prior):\n",
    "    return tf.reduce_sum(tfd.kl_divergence(encoding_dist,prior)-sample_decoding_dist.log_prob(x))"
   ]
  },
  {
   "cell_type": "code",
   "execution_count": 29,
   "metadata": {},
   "outputs": [],
   "source": [
    "# Define a function that returns the loss and its gradients\n",
    "\n",
    "@tf.function\n",
    "def get_loss_and_grads(x):\n",
    "    with tf.GradientTape() as tape:\n",
    "        encoding_dist=encoder(x)\n",
    "        sampled_z=encoding_dist.sample()\n",
    "        sampled_decoding_dist=decoder(sampled_z)\n",
    "        current_loss=loss_fn(x,encoding_dist,sampled_decoding_dist,prior)\n",
    "    grad=tape.gradient(current_loss,encoder.trainable_variables+decoder.trainable_variables)\n",
    "    return current_loss,grad\n",
    "    "
   ]
  },
  {
   "cell_type": "code",
   "execution_count": 30,
   "metadata": {},
   "outputs": [
    {
     "name": "stdout",
     "output_type": "stream",
     "text": [
      "-ELBO after epoch 1: 9113\n",
      "-ELBO after epoch 2: 8943\n",
      "-ELBO after epoch 3: 8801\n",
      "-ELBO after epoch 4: 8818\n",
      "-ELBO after epoch 5: 8726\n"
     ]
    }
   ],
   "source": [
    "# Compile and train the model\n",
    "\n",
    "num_epochs = 5\n",
    "opt = tf.keras.optimizers.Adam()\n",
    "for i in range(num_epochs):\n",
    "    for train_batch in x_train:\n",
    "        current_loss, grads = get_loss_and_grads(train_batch)\n",
    "        opt.apply_gradients(zip(grads, encoder.trainable_variables\n",
    "                                       + decoder.trainable_variables))\n",
    "        \n",
    "    print('-ELBO after epoch {}: {:.0f}'.format(i+1, current_loss.numpy()))"
   ]
  },
  {
   "cell_type": "code",
   "execution_count": 34,
   "metadata": {},
   "outputs": [],
   "source": [
    "# Connect encoder and decoder, compute a reconstruction\n",
    "\n",
    "def vae(inputs):\n",
    "    approx_posterior=encoder(inputs)\n",
    "    decoding_dist=decoder(approx_posterior.sample())\n",
    "    return decoding_dist.mean()"
   ]
  },
  {
   "cell_type": "code",
   "execution_count": 35,
   "metadata": {},
   "outputs": [],
   "source": [
    "example_reconstruction=vae(example_x).numpy().squeeze()"
   ]
  },
  {
   "cell_type": "code",
   "execution_count": 36,
   "metadata": {},
   "outputs": [
    {
     "data": {
      "image/png": "[encoded data removed]",
      "text/plain": [
       "<Figure size 1152x360 with 12 Axes>"
      ]
     },
     "metadata": {
      "needs_background": "light"
     },
     "output_type": "display_data"
    }
   ],
   "source": [
    "# Plot examples against reconstructions\n",
    "\n",
    "f, axs = plt.subplots(2, 6, figsize=(16, 5))\n",
    "\n",
    "for j in range(6):\n",
    "    axs[0, j].imshow(example_x[j, :, :].squeeze(), cmap='binary')\n",
    "    axs[1, j].imshow(example_reconstruction[j, :, :], cmap='binary')\n",
    "    axs[0, j].axis('off')\n",
    "    axs[1, j].axis('off')"
   ]
  },
  {
   "cell_type": "code",
   "execution_count": 42,
   "metadata": {},
   "outputs": [],
   "source": [
    "# Generate an example - sample a z value, then sample a reconstruction from p(x|z)\n",
    "\n",
    "z=prior.sample(6)\n",
    "generated_x=decoder(z).mean()"
   ]
  },
  {
   "cell_type": "code",
   "execution_count": 43,
   "metadata": {},
   "outputs": [
    {
     "data": {
      "image/png": "[encoded data removed]",
      "text/plain": [
       "<Figure size 1152x360 with 6 Axes>"
      ]
     },
     "metadata": {
      "needs_background": "light"
     },
     "output_type": "display_data"
    }
   ],
   "source": [
    "# Display generated_x\n",
    "\n",
    "f, axs = plt.subplots(1, 6, figsize=(16, 5))\n",
    "for j in range(6):\n",
    "    axs[j].imshow(generated_x[j, :, :].numpy().squeeze(), cmap='binary')\n",
    "    axs[j].axis('off')"
   ]
  },
  {
   "cell_type": "code",
   "execution_count": 44,
   "metadata": {},
   "outputs": [],
   "source": [
    "# -ELBO estimate using an estimate of the KL divergence\n",
    "\n",
    "def loss(x, encoding_dist, sampled_decoding_dist,\n",
    "         prior, sampled_z):\n",
    "    recon_loss = -sampled_decoding_dist.log_prob(x)\n",
    "    kl_approx = (encoding_dist.log_prob(sampled_z)\n",
    "                    - prior.log_prob(sampled_z))\n",
    "    return tf.reduce_sum(kl_approx + recon_loss)"
   ]
  }
 ],
 "metadata": {
  "kernelspec": {
   "display_name": "Python 3",
   "language": "python",
   "name": "python3"
  },
  "language_info": {
   "codemirror_mode": {
    "name": "ipython",
    "version": 3
   },
   "file_extension": ".py",
   "mimetype": "text/x-python",
   "name": "python",
   "nbconvert_exporter": "python",
   "pygments_lexer": "ipython3",
   "version": "3.7.1"
  }
 },
 "nbformat": 4,
 "nbformat_minor": 4
}
